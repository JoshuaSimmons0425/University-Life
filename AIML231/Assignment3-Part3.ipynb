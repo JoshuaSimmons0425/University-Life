{
 "cells": [
  {
   "cell_type": "code",
   "execution_count": 14,
   "id": "c4167841-1e5a-4967-a275-b7192b3cb088",
   "metadata": {},
   "outputs": [],
   "source": [
    "from sklearn.datasets import load_digits\n",
    "from sklearn.model_selection import train_test_split\n",
    "from sklearn.preprocessing import StandardScaler\n",
    "import torch\n",
    "from torch.utils.data import DataLoader, TensorDataset\n",
    "\n",
    "# Load data\n",
    "digits = load_digits()\n",
    "X = digits.data               \n",
    "y = digits.target           \n",
    "\n",
    "# Split\n",
    "X_train, X_test, y_train, y_test = train_test_split(X, y, test_size=0.2, random_state=231)\n",
    "\n",
    "# Normalize features\n",
    "scaler = StandardScaler()\n",
    "X_train = scaler.fit_transform(X_train)\n",
    "X_test = scaler.transform(X_test)\n",
    "\n",
    "# Convert to tensors\n",
    "X_train = torch.tensor(X_train, dtype=torch.float32)\n",
    "X_test = torch.tensor(X_test, dtype=torch.float32)\n",
    "y_train = torch.tensor(y_train, dtype=torch.long)   \n",
    "y_test = torch.tensor(y_test, dtype=torch.long)"
   ]
  },
  {
   "cell_type": "code",
   "execution_count": 15,
   "id": "f65320c3-cdf1-419a-b8d4-674e50332fe1",
   "metadata": {},
   "outputs": [],
   "source": [
    "from torch.utils.data import TensorDataset, DataLoader\n",
    "\n",
    "# Create datasets\n",
    "train_dataset = TensorDataset(X_train, y_train)\n",
    "test_dataset = TensorDataset(X_test, y_test)\n",
    "\n",
    "# Create data loaders (shuffle training set)\n",
    "train_loader = DataLoader(train_dataset, batch_size=64, shuffle=True)\n",
    "test_loader = DataLoader(test_dataset, batch_size=64, shuffle=False)"
   ]
  },
  {
   "cell_type": "code",
   "execution_count": 16,
   "id": "ada874a1-cbe5-4363-829e-0480ec4ac055",
   "metadata": {},
   "outputs": [],
   "source": [
    "import torch\n",
    "import torch.nn as nn\n",
    "import torch.nn.functional as F\n",
    "\n",
    "class DigitClassifier(nn.Module):\n",
    "    def __init__(self, input_size, output_size, hidden_size):\n",
    "        super(DigitClassifier, self).__init__()\n",
    "        self.fc1 = torch.nn.Linear(input_size, hidden_size) # Input to hidden\n",
    "        self.fc2 = torch.nn.Linear(hidden_size, output_size) # hidden to output\n",
    "\n",
    "    def forward(self, x):\n",
    "        x = self.fc1(x)\n",
    "        x = F.relu(x) # Apply ReLU activiation to the hidden layer\n",
    "        x = self.fc2(x)\n",
    "        x = F.softmax(x, dim = 1)  # Apply softmax along the output layer (class dimension)\n",
    "        return x"
   ]
  },
  {
   "cell_type": "code",
   "execution_count": 17,
   "id": "e0df48af-07aa-4406-9baa-e97310cb9d99",
   "metadata": {},
   "outputs": [],
   "source": [
    "from tqdm import tqdm\n",
    "\n",
    "# Method for training the nn model for nth times based on the number of epochs specified \n",
    "def train_model(model, train_loader, loss_function, optimizer, epochs):\n",
    "    # lists to store the loss and accuracy of each epoch\n",
    "    loss_history = []\n",
    "    accuracy_history = []\n",
    "\n",
    "    # loop through each epoch\n",
    "    for epoch in tqdm(range(epochs), desc=\"Training\", unit=\"epoch\"):\n",
    "        model.train() # Train the model\n",
    "        running_loss = 0.0 # Accumulate loss over each epoch\n",
    "        correct = 0 # Count of correct prediction\n",
    "        total = 0 # Total number of samples seen\n",
    "\n",
    "        # Iterate over batches from the training data loader\n",
    "        for batch_x, batch_y in train_loader:\n",
    "            optimizer.zero_grad() # Reset gradients\n",
    "            logits = model(batch_x) # Forward Pass\n",
    "            loss = loss_function(logits, batch_y) # Compute loss\n",
    "            loss.backward() # Backpropagation\n",
    "            optimizer.step() # Update weights\n",
    "\n",
    "            running_loss += loss.item() * batch_x.size(0) # Accumulate weighted batch loss\n",
    "            preds = torch.argmax(logits, dim=1) # Get predicted classes\n",
    "            correct += (preds == batch_y).sum().item() # Count correct predictions\n",
    "            total += batch_y.size(0) # Update total samples\n",
    "\n",
    "        # Compute average loss and accuracy for the epoch\n",
    "        epoch_loss = running_loss / total\n",
    "        epoch_accuracy = correct / total\n",
    "        loss_history.append(epoch_loss)\n",
    "        accuracy_history.append(epoch_accuracy)\n",
    "\n",
    "        print(f\"Epoch {epoch+1}: Loss = {epoch_loss:.4f}, Accuracy = {epoch_accuracy:.4f}\")\n",
    "\n",
    "    return model\n"
   ]
  },
  {
   "cell_type": "code",
   "execution_count": 18,
   "id": "ec7ea53e-6212-4706-80b2-30e77cfd21bd",
   "metadata": {},
   "outputs": [
    {
     "name": "stderr",
     "output_type": "stream",
     "text": [
      "Training:  20%|██        | 3/15 [00:00<00:00, 24.02epoch/s]"
     ]
    },
    {
     "name": "stdout",
     "output_type": "stream",
     "text": [
      "Epoch 1: Loss = 2.2441, Accuracy = 0.5268\n",
      "Epoch 2: Loss = 2.0361, Accuracy = 0.7216\n",
      "Epoch 3: Loss = 1.8118, Accuracy = 0.7975\n",
      "Epoch 4: Loss = 1.6846, Accuracy = 0.8685\n",
      "Epoch 5: Loss = 1.6143, Accuracy = 0.9179\n"
     ]
    },
    {
     "name": "stderr",
     "output_type": "stream",
     "text": [
      "Training:  60%|██████    | 9/15 [00:00<00:00, 19.90epoch/s]"
     ]
    },
    {
     "name": "stdout",
     "output_type": "stream",
     "text": [
      "Epoch 6: Loss = 1.5718, Accuracy = 0.9443\n",
      "Epoch 7: Loss = 1.5488, Accuracy = 0.9520\n",
      "Epoch 8: Loss = 1.5326, Accuracy = 0.9631\n",
      "Epoch 9: Loss = 1.5204, Accuracy = 0.9722\n",
      "Epoch 10: Loss = 1.5112, Accuracy = 0.9826\n"
     ]
    },
    {
     "name": "stderr",
     "output_type": "stream",
     "text": [
      "Training: 100%|██████████| 15/15 [00:00<00:00, 21.66epoch/s]"
     ]
    },
    {
     "name": "stdout",
     "output_type": "stream",
     "text": [
      "Epoch 11: Loss = 1.5036, Accuracy = 0.9840\n",
      "Epoch 12: Loss = 1.4983, Accuracy = 0.9854\n",
      "Epoch 13: Loss = 1.4939, Accuracy = 0.9861\n",
      "Epoch 14: Loss = 1.4900, Accuracy = 0.9868\n",
      "Epoch 15: Loss = 1.4874, Accuracy = 0.9875\n",
      "Test Accuracy: 95.56%\n"
     ]
    },
    {
     "name": "stderr",
     "output_type": "stream",
     "text": [
      "\n"
     ]
    }
   ],
   "source": [
    "from torch import nn, optim\n",
    "import matplotlib.pyplot as plt\n",
    "\n",
    "# Define model, loss function, and optimizer\n",
    "# Instantiate model, loss, and optimizer\n",
    "model = DigitClassifier(input_size=64, hidden_size=128, output_size=10)\n",
    "loss_function = nn.CrossEntropyLoss()\n",
    "\n",
    "optimizer = optim.Adam(model.parameters(), lr=0.001)\n",
    "\n",
    "# Train\n",
    "digit_nn = train_model(\n",
    "   model, train_loader, loss_function, optimizer, epochs=15\n",
    ")\n",
    "\n",
    "# Evaluate on test set\n",
    "digit_nn.eval()\n",
    "correct = 0\n",
    "total = 0\n",
    "\n",
    "with torch.no_grad():\n",
    "    for xb, yb in test_loader:\n",
    "        outputs = digit_nn(xb)\n",
    "        predicted = torch.argmax(outputs, dim=1)\n",
    "        correct += (predicted == yb).sum().item()\n",
    "        total += yb.size(0)\n",
    "\n",
    "test_accuracy = correct / total * 100\n",
    "print(f\"Test Accuracy: {test_accuracy:.2f}%\")\n"
   ]
  },
  {
   "cell_type": "code",
   "execution_count": 19,
   "id": "9994a74c-006d-4acc-a420-3bc7d3f6d17c",
   "metadata": {},
   "outputs": [
    {
     "data": {
      "image/png": "[encoded data removed]",
      "text/plain": [
       "<Figure size 1000x200 with 5 Axes>"
      ]
     },
     "metadata": {},
     "output_type": "display_data"
    }
   ],
   "source": [
    "import matplotlib.pyplot as plt\n",
    "import random\n",
    "\n",
    "# Get 5 test samples\n",
    "examples = next(iter(test_loader))\n",
    "images, labels = examples\n",
    "\n",
    "# Select 5 random indices within the batch\n",
    "rand_indices = random.sample(range(images.shape[0]), 5)\n",
    "images = images[rand_indices]\n",
    "labels = labels[rand_indices]\n",
    "\n",
    "# Make predictions\n",
    "digit_nn.eval()\n",
    "with torch.no_grad():\n",
    "    outputs = model(images)\n",
    "    predicted = torch.argmax(outputs, dim=1)\n",
    "\n",
    "# Plot\n",
    "plt.figure(figsize=(10, 2))\n",
    "for i in range(5):\n",
    "    img = images[i].reshape(8, 8)  # Reshape the 64-dim vector back to 8x8 image\n",
    "    plt.subplot(1, 5, i + 1)\n",
    "    plt.imshow(img, cmap=\"gray\")\n",
    "    plt.title(f\"Pred: {predicted[i].item()}\\nTrue: {labels[i].item()}\")\n",
    "    plt.axis(\"off\")\n",
    "plt.tight_layout()\n",
    "plt.show()\n"
   ]
  },
  {
   "cell_type": "code",
   "execution_count": null,
   "id": "1fac8475-d40d-44b2-95ba-1b1c26e3d92d",
   "metadata": {},
   "outputs": [],
   "source": []
  }
 ],
 "metadata": {
  "kernelspec": {
   "display_name": "Python 3 (ipykernel)",
   "language": "python",
   "name": "python3"
  },
  "language_info": {
   "codemirror_mode": {
    "name": "ipython",
    "version": 3
   },
   "file_extension": ".py",
   "mimetype": "text/x-python",
   "name": "python",
   "nbconvert_exporter": "python",
   "pygments_lexer": "ipython3",
   "version": "3.12.7"
  }
 },
 "nbformat": 4,
 "nbformat_minor": 5
}
