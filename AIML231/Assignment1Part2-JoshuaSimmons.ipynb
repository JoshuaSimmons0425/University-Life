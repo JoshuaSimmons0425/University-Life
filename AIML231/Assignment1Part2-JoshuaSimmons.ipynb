{
 "cells": [
  {
   "cell_type": "code",
   "execution_count": 6,
   "id": "f5b5f909-73bb-497e-9dd3-69df1dfa82b7",
   "metadata": {},
   "outputs": [
    {
     "name": "stdout",
     "output_type": "stream",
     "text": [
      "[1 1 1 1 1 2 1 1 1 1 2 1 1 2 1 1 1 2 1 1 1 2 1 1 1 2 1 1 2 1 1 2 1 1 2 1 1\n",
      " 1 2 1 2 2 1 1 2 2 1 1 1 2 1 2 2 2 1 1 2 2 1 2 1 1 2 1 2 2 2 2 1 2 1 1 1 2\n",
      " 1 2 1 2 2 2 2 2 1 1 2 2 1 1 1 2 2 1 1 2 1 1 1 1 1 2 2 1 2 1 1 2 2 1 1 1 2\n",
      " 2 1 2 2 1 2 2 1 2 2 1 1 1 2 2 2 2 2 2 2 1 1 1 1 2 2 1 1 2 2 1 2 2 1 1 1 2\n",
      " 1 1 2 2 1 1 2 1 2 1 2 1 1 1 1 2 1 2 2 1 1 1 2 1 1 2 1 1 2 1 2 2 2 2 1 1 2\n",
      " 1 1 1 1 1 1 2 1 1 2 2 1 2 2 2 2 2 2 2 1 1 2 2 2 1 1 2 2 1 2 1 2 2 1 1 1 1\n",
      " 2 1 1 1 1 2 2 1 1 1 2 1 1 1 1 1 2 1 2 1 1 1 1 2 1 2 2 2 2 1 2 1 1 2 2 1 1\n",
      " 2 1 1 1 2 2 2 1 1 1 1 2 2 1 2 1 2 2 2 2 1 2 2 1 2 1 1 1 2 2 1 2 2 1 2 2 2\n",
      " 1 2 2 1 2 1 2 1 1 2 2 2 1 1 2 1 1 1 2 1 2 1 1 1 1 2 2 2 1 2 1 1 2 2 2 1 1\n",
      " 2 2 2 1 2 1 1 2 2 1 1 2 2 1 1 2 1 2 1 2 2 1 2 1 1 2 1 1 2 2 1 2 1 2 1 1 1\n",
      " 2 1 2 2 1 2 1 2 1 2 2 2 1 1 1 2 1 1 2 1 2 1 1 2 2 1 1 2 2 1 1 2 2 1 1 1 1\n",
      " 1 2 2 2 2 1 2 1 2 2 1 1 2 1 2 2 1 1 1 1 1 1 2 1 2 2 2 2 2 1 1 2 2 1 2 1 2\n",
      " 1 1 1 1 2 2 1 2 1 1 1 1 2 2 1 1 1 1 2 1 1 1 2 1 2 1 2 1 2 2 1 2 1 2 1 1 1\n",
      " 1 1 2 2 2 1 2 1 2 1 2 1 1 2 2 1 2 2 2 1 1 2 2 2 2 1 1 1 1 1 1 2 2 2 1 1 2\n",
      " 2 1 2 1 2 2 2 2 1 2 1 2 2 1 1 1 2 1 2 1 2 1 1 1 1 1 2 1 1 1 2 2 1 1 2 1 1\n",
      " 2 1 2 2 2 1 2 2 1 2 2 2 1 2 2 1 1 2 1 2 2 1 2 2 2 2 2 2 2 1 1 1 1 2 2 1 1\n",
      " 2 1 1 2 2 1 1 1 2 2 2 1 2 1 1 2 1 2 1 1 2 2 2 2 1 1 1 2 1 2 2 1 2 2 2 2 1\n",
      " 2 2 1 1 2 2 2 2 2 1 2 1 2 1 1 1 2 2 2 2 1 2 2 2 2 2 2 2 2 1 2 2 1 2 2 1 2\n",
      " 2 2 2 1 1 1 1 1 1 1 1 2 2 2 1 1 1 2 1 2]\n",
      "The accuracy of the knn classifier is 0.8206997084548104 when k=7\n"
     ]
    }
   ],
   "source": [
    "from collections import Counter\n",
    "import numpy as np\n",
    "import pandas as pd\n",
    "from sklearn.model_selection import train_test_split\n",
    "from sklearn.preprocessing import StandardScaler\n",
    "from math import sqrt\n",
    "\n",
    "def euclidean_distance(point1, point2):\n",
    "    \"\"\"Calculate the Euclidean distance between two points.\"\"\"\n",
    "    # TODO: return the distance between the two input data points.\n",
    "    return sqrt(np.sum(point1 - point2)**2)\n",
    "\n",
    "def knn_classifier(train_data, train_labels, test_data, k):\n",
    "    \"\"\"Simple k-NN classifier.\"\"\"\n",
    "    predictions = []\n",
    "\n",
    "    for test_point in test_data:\n",
    "        # Calculate distances from the current test point to all training points\n",
    "        distances = [euclidean_distance(test_point, train_point) for train_point in train_data]\n",
    "\n",
    "        # Get the indices of the k nearest neighbors\n",
    "        k_indices = np.argsort(distances)[:k]\n",
    "\n",
    "        # TODO: Get the labels of the k nearest neighbors\n",
    "        k_nearest_labels = [train_labels[i] for i in k_indices]\n",
    "\n",
    "        # TODO: Determine the most common label among the k nearest neighbors\n",
    "        most_common_label = Counter(k_nearest_labels).most_common(1)[0][0]\n",
    "\n",
    "        # Append the predicted label to the predictions list\n",
    "        predictions.append(most_common_label)\n",
    "\n",
    "    return np.array(predictions)\n",
    "\n",
    "df = pd.read_csv('banknotes_new.csv')\n",
    "X, y = df.drop('Class', axis=1),  df['Class']\n",
    "\n",
    "\n",
    "# TODO: Conduct training data and test data split randomly with a 50:50 ratio, setting random_state=2025\n",
    "X_train, X_test, y_train, y_test = train_test_split(X, y, test_size = 0.5, random_state = 2025)\n",
    "y_train = y_train.values\n",
    "y_test = y_test.values\n",
    "\n",
    "# TODO: Use function StandardScaler().fit_transform() to normalize the value range of each feature in the dataset.\n",
    "\n",
    "scaler = StandardScaler()\n",
    "X_train = scaler.fit_transform(X_train)\n",
    "X_test = scaler.transform(X_test)\n",
    "\n",
    "# Set the value of k.\n",
    "k=7\n",
    "test_label = knn_classifier(X_train, y_train, X_test, k)\n",
    "print(test_label)\n",
    "\n",
    "# Calculate and print the accuracy of the knn classifier on the test dataset.\n",
    "accuracy = 1.0-np.sum(np.abs(y_test - test_label))/y_test.shape[0]\n",
    "print(f'The accuracy of the knn classifier is {accuracy} when k={k}')\n"
   ]
  },
  {
   "cell_type": "code",
   "execution_count": null,
   "id": "a6c6c4b9-9940-4dd9-aa60-9167eaf49e72",
   "metadata": {},
   "outputs": [],
   "source": []
  }
 ],
 "metadata": {
  "kernelspec": {
   "display_name": "Python 3 (ipykernel)",
   "language": "python",
   "name": "python3"
  },
  "language_info": {
   "codemirror_mode": {
    "name": "ipython",
    "version": 3
   },
   "file_extension": ".py",
   "mimetype": "text/x-python",
   "name": "python",
   "nbconvert_exporter": "python",
   "pygments_lexer": "ipython3",
   "version": "3.12.7"
  }
 },
 "nbformat": 4,
 "nbformat_minor": 5
}
